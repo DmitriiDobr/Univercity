{
 "cells": [
  {
   "cell_type": "code",
   "execution_count": 27,
   "metadata": {
    "collapsed": true
   },
   "outputs": [],
   "source": [
    "import numpy as np\n",
    "def ranets_(weight,SIK_private_key,m,n):     #enter SIK_private_key is super increasing sequence. Weight must be a number consisting of the sum of the elements of SIK_private_key.  m, n, prime numbers n must bigger than sum of SIK_private_key\n",
    "    \n",
    "    Public_key=[]\n",
    "    code=[]\n",
    "    j=0\n",
    "    sum=0\n",
    "    for i in SIK_private_key:\n",
    "         Public_key.append(i*m%n)  #Public key find\n",
    "    while m*j%n!=1:\n",
    "        j+=1\n",
    "    for i in range(-1,(-len(SIK_private_key)-1),-1):  #binary code\n",
    "        if weight >= SIK_private_key[i]:\n",
    "            weight=weight-SIK_private_key[i] \n",
    "            code.append(SIK_private_key[i])\n",
    "        else:\n",
    "            code.append(0)\n",
    "    code=code[::-1]\n",
    "    for i in range(len(code)): # find code for entred number\n",
    "        if code[i]!=0:\n",
    "            code[i]=1\n",
    "    code=np.array(code)\n",
    "    Public_key=np.array(Public_key)\n",
    "    code=np.array(code)\n",
    "    example=code*Public_key\n",
    "    for i in example:\n",
    "        sum=i+sum\n",
    "    original_weight=sum*j%n\n",
    "    return Public_key,code,original_weight # return public key, code binary, original number "
   ]
  },
  {
   "cell_type": "code",
   "execution_count": 30,
   "metadata": {},
   "outputs": [
    {
     "data": {
      "text/plain": [
       "(array([ 82, 123, 287,  83, 248, 373,  10, 471]),\n",
       " array([1, 0, 0, 0, 0, 0, 0, 0]),\n",
       " 2)"
      ]
     },
     "execution_count": 30,
     "metadata": {},
     "output_type": "execute_result"
    }
   ],
   "source": [
    "ranets_(2,[2,3,7,14,30,57,120,251],41,491)"
   ]
  },
  {
   "cell_type": "code",
   "execution_count": null,
   "metadata": {
    "collapsed": true
   },
   "outputs": [],
   "source": []
  }
 ],
 "metadata": {
  "kernelspec": {
   "display_name": "Python 3",
   "language": "python",
   "name": "python3"
  },
  "language_info": {
   "codemirror_mode": {
    "name": "ipython",
    "version": 3
   },
   "file_extension": ".py",
   "mimetype": "text/x-python",
   "name": "python",
   "nbconvert_exporter": "python",
   "pygments_lexer": "ipython3",
   "version": "3.7.6"
  }
 },
 "nbformat": 4,
 "nbformat_minor": 2
}
