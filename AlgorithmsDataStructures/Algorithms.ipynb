{
 "cells": [
  {
   "cell_type": "markdown",
   "metadata": {},
   "source": [
    "Сортировка пузырьком"
   ]
  },
  {
   "cell_type": "code",
   "execution_count": 3,
   "metadata": {},
   "outputs": [],
   "source": [
    "import random"
   ]
  },
  {
   "cell_type": "code",
   "execution_count": 4,
   "metadata": {},
   "outputs": [],
   "source": [
    "randomlist = random.sample(range(0, 30), 20)"
   ]
  },
  {
   "cell_type": "code",
   "execution_count": 5,
   "metadata": {},
   "outputs": [],
   "source": [
    "def bubble_sort(unsorted_list):\n",
    "    for j in range(len(unsorted_list)):\n",
    "        for i in range(len(unsorted_list)-1):   \n",
    "            if unsorted_list[i]<unsorted_list[i+1]:\n",
    "                unsorted_list[i],unsorted_list[i+1]=unsorted_list[i+1],unsorted_list[i]\n",
    "    return unsorted_list        "
   ]
  },
  {
   "cell_type": "code",
   "execution_count": 6,
   "metadata": {},
   "outputs": [
    {
     "data": {
      "text/plain": [
       "[29, 28, 25, 24, 22, 19, 18, 17, 15, 14, 11, 9, 8, 7, 6, 5, 4, 3, 1, 0]"
      ]
     },
     "execution_count": 6,
     "metadata": {},
     "output_type": "execute_result"
    }
   ],
   "source": [
    "bubble_sort(unsorted_list=randomlist)"
   ]
  },
  {
   "cell_type": "markdown",
   "metadata": {},
   "source": [
    "Сортировка выбором"
   ]
  },
  {
   "cell_type": "code",
   "execution_count": 7,
   "metadata": {},
   "outputs": [],
   "source": [
    "def sortirovka_vybor(unsorted_list):\n",
    "    for i in range(len(unsorted_list)-1):\n",
    "        minimum_element=unsorted_list[i]\n",
    "        index=i\n",
    "        for j in range(i+1,len(unsorted_list)):       \n",
    "            if minimum_element>unsorted_list[j]:\n",
    "                minimum_element=unsorted_list[j]\n",
    "                index=j\n",
    "\n",
    "        unsorted_list[i],unsorted_list[index]=unsorted_list[index],unsorted_list[i]\n",
    "    return unsorted_list"
   ]
  },
  {
   "cell_type": "code",
   "execution_count": 8,
   "metadata": {},
   "outputs": [],
   "source": [
    "sorted_list=sortirovka_vybor(unsorted_list=randomlist)"
   ]
  },
  {
   "cell_type": "markdown",
   "metadata": {},
   "source": [
    "Сортировка быстрая"
   ]
  },
  {
   "cell_type": "code",
   "execution_count": null,
   "metadata": {},
   "outputs": [],
   "source": [
    "def sort(array=[12,4,5,6,7,3,1,15]):\n",
    "    \"\"\"Sort the array by using quicksort.\"\"\"\n",
    "\n",
    "    less = []\n",
    "    equal = []\n",
    "    greater = []\n",
    "\n",
    "    if len(array) > 1:\n",
    "        pivot = array[0]\n",
    "        for x in array:\n",
    "            if x < pivot:\n",
    "                less.append(x)\n",
    "            elif x == pivot:\n",
    "                equal.append(x)\n",
    "            elif x > pivot:\n",
    "                greater.append(x)\n",
    "        # Don't forget to return something!\n",
    "        return sort(less)+equal+sort(greater)  # Just use the + operator to join lists\n",
    "    # Note that you want equal ^^^^^ not pivot\n",
    "    else:  # You need to handle the part at the end of the recursion - when you only have one element in your array, just return the array.\n",
    "        return array"
   ]
  },
  {
   "cell_type": "markdown",
   "metadata": {},
   "source": [
    "Бинарный поиск"
   ]
  },
  {
   "cell_type": "code",
   "execution_count": 17,
   "metadata": {},
   "outputs": [
    {
     "data": {
      "text/plain": [
       "[0, 1, 3, 4, 5, 6, 7, 8, 9, 11, 14, 15, 17, 18, 19, 22, 24, 25, 28, 29]"
      ]
     },
     "execution_count": 17,
     "metadata": {},
     "output_type": "execute_result"
    }
   ],
   "source": [
    "sorted_list"
   ]
  },
  {
   "cell_type": "code",
   "execution_count": 46,
   "metadata": {},
   "outputs": [],
   "source": [
    "def binary_search(sorted_list):\n",
    "    element_find=random.choice(sorted_list)\n",
    "    minima=0\n",
    "    maxima=len(sorted_list)\n",
    "    middle=round(minima+maxima/2)\n",
    "    while True:\n",
    "        if sorted_list[middle]<element_find: \n",
    "            minima=middle\n",
    "            middle=round((minima+maxima)/2) \n",
    "        elif element_find<sorted_list[middle]:\n",
    "            maxima=middle\n",
    "            middle=round((minima+maxima)/2)        \n",
    "        else:\n",
    "            index=middle\n",
    "            break\n",
    "\n",
    "    if element_find==sorted_list[index]:\n",
    "        return({\"result\":True,\"index\":index,\"element_search\":element_find,\"element_found\":sorted_list[index]})\n",
    "    else:\n",
    "        return({\"result\":False,\"index\":index,\"element_search\":element_find,\"element_found\":sorted_list[index]})\n",
    "        \n",
    "        \n",
    "        "
   ]
  },
  {
   "cell_type": "code",
   "execution_count": 47,
   "metadata": {},
   "outputs": [
    {
     "data": {
      "text/plain": [
       "{'result': True, 'index': 19, 'element_search': 29, 'element_found': 29}"
      ]
     },
     "execution_count": 47,
     "metadata": {},
     "output_type": "execute_result"
    }
   ],
   "source": [
    "binary_search(sorted_list)"
   ]
  },
  {
   "cell_type": "markdown",
   "metadata": {},
   "source": [
    "Стэк, LIFO (Last-In-First-Out)"
   ]
  },
  {
   "cell_type": "code",
   "execution_count": 62,
   "metadata": {},
   "outputs": [],
   "source": [
    "class Stack:\n",
    "    def __init__(self,stack):\n",
    "        self.stack=\n",
    "    \n",
    "    def push(self,stack,element):\n",
    "        if not stack:\n",
    "            print(\"Stack is empty!\")\n",
    "        else:\n",
    "            stack=stack+[0]\n",
    "            stack[len(stack)-1]=element\n",
    "\n",
    "    def pop(self,stack):\n",
    "        if not stack:\n",
    "            print(\"Stack is empty!\")\n",
    "        else:\n",
    "            last_index=len(stack)-1\n",
    "            last_element=stack[last_index]\n",
    "            del stack[last_index]\n",
    "            return last_element\n",
    "\n",
    "    def peek(self,stack):\n",
    "        return stack[len(stack)-1]\n",
    "\n",
    "\n",
    "    def count(self,stack):\n",
    "        return len(stack)"
   ]
  },
  {
   "cell_type": "markdown",
   "metadata": {},
   "source": [
    "Queue, FIFO (First-In-First-Out)"
   ]
  },
  {
   "cell_type": "code",
   "execution_count": 73,
   "metadata": {},
   "outputs": [],
   "source": [
    "class Queue:\n",
    "    def __init__(self,queue):\n",
    "        self._queue=queue\n",
    "    \n",
    "    def Enqueue(self,element):\n",
    "        if not self._queue:\n",
    "            print(\"Stack is empty!\")\n",
    "        else:\n",
    "            self._queue=[0]+self._queue\n",
    "            self._queue[0]=element\n",
    "\n",
    "    def Dequeue(self):\n",
    "        if not self._queue:\n",
    "            print(\"Stack is empty!\")\n",
    "        else:\n",
    "            last_index=len(self._queue)-1\n",
    "            last_element=self._queue[last_index]\n",
    "            del self._queue[last_index]\n",
    "            return last_element\n",
    "\n",
    "        \n",
    "    def peek(self):\n",
    "        return self._queue[len(self._queue)-1]\n",
    "\n",
    "\n",
    "    def count(self):\n",
    "        return len(self._queue)"
   ]
  },
  {
   "cell_type": "code",
   "execution_count": 74,
   "metadata": {},
   "outputs": [],
   "source": [
    "my_queue=Queue([1,2,4,5,6])"
   ]
  },
  {
   "cell_type": "code",
   "execution_count": 75,
   "metadata": {},
   "outputs": [],
   "source": [
    "my_queue.Enqueue(3)"
   ]
  },
  {
   "cell_type": "code",
   "execution_count": 76,
   "metadata": {},
   "outputs": [
    {
     "data": {
      "text/plain": [
       "6"
      ]
     },
     "execution_count": 76,
     "metadata": {},
     "output_type": "execute_result"
    }
   ],
   "source": [
    "my_queue.count()"
   ]
  },
  {
   "cell_type": "code",
   "execution_count": 77,
   "metadata": {},
   "outputs": [
    {
     "data": {
      "text/plain": [
       "[3, 1, 2, 4, 5, 6]"
      ]
     },
     "execution_count": 77,
     "metadata": {},
     "output_type": "execute_result"
    }
   ],
   "source": [
    "my_queue._queue"
   ]
  },
  {
   "cell_type": "code",
   "execution_count": null,
   "metadata": {},
   "outputs": [],
   "source": []
  }
 ],
 "metadata": {
  "kernelspec": {
   "display_name": "Python 3",
   "language": "python",
   "name": "python3"
  },
  "language_info": {
   "codemirror_mode": {
    "name": "ipython",
    "version": 3
   },
   "file_extension": ".py",
   "mimetype": "text/x-python",
   "name": "python",
   "nbconvert_exporter": "python",
   "pygments_lexer": "ipython3",
   "version": "3.7.6"
  }
 },
 "nbformat": 4,
 "nbformat_minor": 4
}
