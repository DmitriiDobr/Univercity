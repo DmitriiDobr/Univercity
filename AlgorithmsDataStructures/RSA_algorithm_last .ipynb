{
 "cells": [
  {
   "cell_type": "code",
   "execution_count": 1,
   "metadata": {},
   "outputs": [],
   "source": [
    "import numpy as np\n",
    "def RSA(p,q,number): # p,q - prime numbers, number- enter your number to code\n",
    "    global d\n",
    "    global fi\n",
    "    fi=p*q\n",
    "    eulerfunc=(p-1)*(q-1) #\n",
    "    d=1\n",
    "    divisibale_numb=[]\n",
    "    for i in range(2,eulerfunc):  # find number less than fi and prime\n",
    "        for j in range(2,i+1):\n",
    "            if (eulerfunc%j==0) and (i%j==0):\n",
    "                divisibale_numb.append(i)\n",
    "    divisibale_numb=set(divisibale_numb)\n",
    "    allnumbers=set(np.arange(2,eulerfunc))\n",
    "    nondivisibale=(allnumbers-divisibale_numb)\n",
    "    e=min(nondivisibale)  # find a minimum number from \n",
    "    while (d*e)%eulerfunc!=1:\n",
    "        d+=1\n",
    "    codenumber=number**e%fi\n",
    "    decode=int(codenumber**d%fi)  # decoding\n",
    "    print(d)\n",
    "    return(e,d,fi,number,codenumber)"
   ]
  },
  {
   "cell_type": "code",
   "execution_count": 2,
   "metadata": {},
   "outputs": [
    {
     "name": "stdout",
     "output_type": "stream",
     "text": [
      "173\n"
     ]
    },
    {
     "data": {
      "text/plain": [
       "(5, 173, 323, 11, 197)"
      ]
     },
     "execution_count": 2,
     "metadata": {},
     "output_type": "execute_result"
    }
   ],
   "source": [
    "RSA(19,17,11)"
   ]
  },
  {
   "cell_type": "code",
   "execution_count": 3,
   "metadata": {},
   "outputs": [
    {
     "name": "stdout",
     "output_type": "stream",
     "text": [
      "197\n"
     ]
    }
   ],
   "source": [
    "firstnumber=int(input()) # enter last number from returnRSA"
   ]
  },
  {
   "cell_type": "code",
   "execution_count": 4,
   "metadata": {},
   "outputs": [
    {
     "name": "stdout",
     "output_type": "stream",
     "text": [
      "11\n"
     ]
    }
   ],
   "source": [
    "print(firstnumber**d%fi) # decode number"
   ]
  }
 ],
 "metadata": {
  "kernelspec": {
   "display_name": "Python 3",
   "language": "python",
   "name": "python3"
  },
  "language_info": {
   "codemirror_mode": {
    "name": "ipython",
    "version": 3
   },
   "file_extension": ".py",
   "mimetype": "text/x-python",
   "name": "python",
   "nbconvert_exporter": "python",
   "pygments_lexer": "ipython3",
   "version": "3.7.6"
  }
 },
 "nbformat": 4,
 "nbformat_minor": 2
}
