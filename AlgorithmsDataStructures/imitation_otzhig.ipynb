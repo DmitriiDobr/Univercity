{
 "cells": [
  {
   "cell_type": "code",
   "execution_count": 161,
   "metadata": {
    "collapsed": true
   },
   "outputs": [],
   "source": [
    "import numpy as np\n",
    "import math as m\n",
    "import random\n",
    "from sklearn.utils import shuffle"
   ]
  },
  {
   "cell_type": "code",
   "execution_count": 209,
   "metadata": {
    "collapsed": true
   },
   "outputs": [],
   "source": [
    "def imitation_otzhig(t,n,number):  # n: разбиение нашего массива на подмассивы длиной в n, t: температура, number: длина нашего списка\n",
    "    first_data=list(range(number))\n",
    "    S0=[first_data[i:i+n] for i in range(0,len(first_data),n)] # первоначальная догадка\n",
    "    while t!=0 :\n",
    "        data = list(range(number))\n",
    "        data =shuffle(data) # рандомная перетасовка данных\n",
    "        St=[data[i:i+n] for i in range(0,len(data),n)]\n",
    "        expect=sum(data)/len(St) # нахождение среднего значения\n",
    "        error_1=0 # квадратичная ошибка предыдущего варианта ( St-1)\n",
    "        error_2=0 # квадратичная ошибка нового варианта(St)\n",
    "        E=0\n",
    "        for i in range(len(St)):  # вычисление дельты приращения ошибки\n",
    "            error_1+=(sum(St[i])-expect)**2\n",
    "            error_2+=(sum(S0[i])-expect)**2\n",
    "            E=error_1-error_2\n",
    "            if 0 > E : # рассматриваем различные варианты приращений (больше 0, меньше 0, равного нулю)\n",
    "                 S0=St     \n",
    "            if E==0:\n",
    "                S0=St\n",
    "            if E > 0:\n",
    "                if random.uniform(0, 1) < m.exp(-E/t):\n",
    "                     S0=St\n",
    "        if E==0: # прерываем цикл while\n",
    "            break\n",
    "    \n",
    "    t-=0.5 # счетчик уменьшения температуры\n",
    "    return E, S0\n",
    "    "
   ]
  },
  {
   "cell_type": "code",
   "execution_count": 210,
   "metadata": {},
   "outputs": [
    {
     "name": "stdout",
     "output_type": "stream",
     "text": [
      "Wall time: 33.1 ms\n"
     ]
    },
    {
     "data": {
      "text/plain": [
       "(0.0,\n",
       " [[35, 1, 85, 56],\n",
       "  [43, 18, 29, 83],\n",
       "  [40, 53, 72, 20],\n",
       "  [21, 93, 24, 88],\n",
       "  [54, 38, 62, 95],\n",
       "  [52, 73, 13, 14],\n",
       "  [4, 90, 98, 47],\n",
       "  [25, 78, 0, 65],\n",
       "  [70, 75, 37, 50],\n",
       "  [7, 99, 5, 48],\n",
       "  [60, 15, 80, 84],\n",
       "  [2, 10, 8, 76],\n",
       "  [68, 34, 94, 3],\n",
       "  [59, 67, 92, 86],\n",
       "  [77, 28, 12, 79],\n",
       "  [26, 42, 17, 69],\n",
       "  [41, 81, 31, 27],\n",
       "  [23, 19, 6, 51],\n",
       "  [74, 71, 89, 58],\n",
       "  [22, 55, 45, 63],\n",
       "  [61, 16, 97, 36],\n",
       "  [39, 57, 64, 33],\n",
       "  [96, 91, 82, 49],\n",
       "  [32, 30, 66, 9],\n",
       "  [46, 44, 87, 11]])"
      ]
     },
     "execution_count": 210,
     "metadata": {},
     "output_type": "execute_result"
    }
   ],
   "source": [
    "%%time\n",
    "imitation_otzhig(100,4,100)"
   ]
  },
  {
   "cell_type": "code",
   "execution_count": null,
   "metadata": {
    "collapsed": true
   },
   "outputs": [],
   "source": []
  },
  {
   "cell_type": "code",
   "execution_count": null,
   "metadata": {
    "collapsed": true
   },
   "outputs": [],
   "source": []
  }
 ],
 "metadata": {
  "kernelspec": {
   "display_name": "Python 3",
   "language": "python",
   "name": "python3"
  },
  "language_info": {
   "codemirror_mode": {
    "name": "ipython",
    "version": 3
   },
   "file_extension": ".py",
   "mimetype": "text/x-python",
   "name": "python",
   "nbconvert_exporter": "python",
   "pygments_lexer": "ipython3",
   "version": "3.7.6"
  }
 },
 "nbformat": 4,
 "nbformat_minor": 2
}
