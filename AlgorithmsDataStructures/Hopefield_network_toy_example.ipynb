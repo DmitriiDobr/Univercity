{
 "cells": [
  {
   "cell_type": "code",
   "execution_count": 5,
   "metadata": {
    "collapsed": true
   },
   "outputs": [],
   "source": [
    "import numpy as np\n",
    "def Hopefield(matrix,y): # upload from text file? example below\n",
    "    \n",
    "    global result\n",
    "   # print(np.where(matrix > 0, '*', '-'))\n",
    "    \n",
    "    w=np.zeros(matrix.shape[1])  # determine coefficient matrix\n",
    "    size_matrix=(matrix.shape[1],matrix.shape[1])\n",
    "    matrix_coeff=np.zeros(size_matrix)\n",
    "    \n",
    "    \n",
    "    for i in range(len(matrix)):\n",
    "        help_matrix=matrix[i,:].reshape((-1,1))*matrix[i,:]\n",
    "        #print(matrix_coeff)\n",
    "        matrix_coeff+=help_matrix\n",
    "        \n",
    "    y=np.array(y).reshape((-1,1))\n",
    "    y_copy=np.array(y).reshape((-1,1))\n",
    "    \n",
    "    np.fill_diagonal(matrix_coeff, 0)\n",
    "    np.matrix(matrix_coeff)\n",
    "   \n",
    "    j=0\n",
    "    while j <=20:    # algorithm to find similar picture\n",
    "        y_new=matrix_coeff*np.matrix(y)\n",
    "        for i in range(len(y_new)):\n",
    "            if y_new[i] >  0:\n",
    "                    y_new[i]=1\n",
    "            elif 0 > y_new[i]:\n",
    "                y_new[i]=-1\n",
    "            else:\n",
    "                y_new[i]=1\n",
    "        if np.array_equal(y_copy,y_new) ==False:\n",
    "            y=y_new\n",
    "            j+=1\n",
    "        if np.array_equal(y_copy,y_new) == True:\n",
    "            break\n",
    "    \n",
    "    y_newpict=np.where(y_new > 0, '*', '-')\n",
    "    \n",
    "    return y_new,j, y_newpict # y_new - vector that was found, j - iteration, y_newpict - picture of vector\n",
    "        \n",
    "            "
   ]
  },
  {
   "cell_type": "code",
   "execution_count": 6,
   "metadata": {},
   "outputs": [
    {
     "data": {
      "text/plain": [
       "(matrix([[ 1.],\n",
       "         [-1.],\n",
       "         [ 1.],\n",
       "         [-1.],\n",
       "         [ 1.],\n",
       "         [-1.]]), 1, array([['*'],\n",
       "        ['-'],\n",
       "        ['*'],\n",
       "        ['-'],\n",
       "        ['*'],\n",
       "        ['-']], dtype='<U1'))"
      ]
     },
     "execution_count": 6,
     "metadata": {},
     "output_type": "execute_result"
    }
   ],
   "source": [
    "Hopefield(matrix = np.loadtxt('C:/Users/Dimon/Desktop/matrix.txt', usecols=range(6)),y=[1,-1,1,-1,1,-1])"
   ]
  },
  {
   "cell_type": "code",
   "execution_count": null,
   "metadata": {
    "collapsed": true
   },
   "outputs": [],
   "source": []
  }
 ],
 "metadata": {
  "kernelspec": {
   "display_name": "Python 3",
   "language": "python",
   "name": "python3"
  },
  "language_info": {
   "codemirror_mode": {
    "name": "ipython",
    "version": 3
   },
   "file_extension": ".py",
   "mimetype": "text/x-python",
   "name": "python",
   "nbconvert_exporter": "python",
   "pygments_lexer": "ipython3",
   "version": "3.7.6"
  }
 },
 "nbformat": 4,
 "nbformat_minor": 2
}
