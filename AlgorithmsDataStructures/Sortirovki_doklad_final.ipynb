{
 "cells": [
  {
   "cell_type": "code",
   "execution_count": 31,
   "metadata": {},
   "outputs": [],
   "source": [
    "import random \n",
    "import timeit\n",
    "import matplotlib.pyplot as plt"
   ]
  },
  {
   "cell_type": "code",
   "execution_count": 32,
   "metadata": {},
   "outputs": [],
   "source": [
    "def vstavki(array): # сортировка  простыми вставками\n",
    "    for i in range(len(array)):\n",
    "        first = array[i]\n",
    "        next_num = i\n",
    "        while (array[next_num-1] > first) and (next_num > 0): # если элемент больше, то перемещаем\n",
    "            array[next_num] = array[next_num-1] # заменяем значения\n",
    "            next_num = next_num - 1\n",
    "        array[next_num] = first # после окончания цикла заменяем 1 элемент\n",
    "        \n",
    "    return array"
   ]
  },
  {
   "cell_type": "code",
   "execution_count": 33,
   "metadata": {},
   "outputs": [
    {
     "data": {
      "text/plain": [
       "[2, 4, 5, 6]"
      ]
     },
     "execution_count": 33,
     "metadata": {},
     "output_type": "execute_result"
    }
   ],
   "source": [
    "vstavki([4,2,5,6])"
   ]
  },
  {
   "cell_type": "code",
   "execution_count": 34,
   "metadata": {},
   "outputs": [],
   "source": [
    "a=[]\n",
    "b=[]\n",
    "for j in range(1000,15000,1000): \n",
    "    for i in range(j):\n",
    "        a.append(i)\n",
    "        c=list(a)\n",
    "    a.clear()    \n",
    "    b.append(c)\n",
    "for i in range(len(b)): \n",
    "      random.shuffle(b[i])"
   ]
  },
  {
   "cell_type": "code",
   "execution_count": null,
   "metadata": {},
   "outputs": [],
   "source": []
  },
  {
   "cell_type": "code",
   "execution_count": null,
   "metadata": {},
   "outputs": [],
   "source": []
  },
  {
   "cell_type": "code",
   "execution_count": 35,
   "metadata": {
    "scrolled": true
   },
   "outputs": [
    {
     "name": "stdout",
     "output_type": "stream",
     "text": [
      "Wall time: 43.5 s\n"
     ]
    }
   ],
   "source": [
    "%%time\n",
    "c=[]\n",
    "for i in range(len(b)):\n",
    "        c.append(timeit.timeit(stmt=f'vstavki(b[{i}])', setup='from __main__ import vstavki, b', number=100))"
   ]
  },
  {
   "cell_type": "code",
   "execution_count": 36,
   "metadata": {
    "scrolled": true
   },
   "outputs": [
    {
     "data": {
      "text/plain": [
       "<matplotlib.legend.Legend at 0x14927efbcc0>"
      ]
     },
     "execution_count": 36,
     "metadata": {},
     "output_type": "execute_result"
    },
    {
     "data": {
      "image/png": "[encoded data removed]",
      "text/plain": [
       "<Figure size 432x288 with 1 Axes>"
      ]
     },
     "metadata": {
      "needs_background": "light"
     },
     "output_type": "display_data"
    }
   ],
   "source": [
    "plt.plot(c)\n",
    "plt.ylabel(\"time\")\n",
    "plt.xlabel(\"observations\")\n",
    "plt.grid()\n",
    "plt.gca().legend('I')"
   ]
  },
  {
   "cell_type": "code",
   "execution_count": null,
   "metadata": {},
   "outputs": [],
   "source": []
  },
  {
   "cell_type": "code",
   "execution_count": 60,
   "metadata": {},
   "outputs": [],
   "source": [
    "def Shell_algo(array): # метод шелла вставки\n",
    "    part = int(len(array)/2) # разбиваем наш массив на две равные части \n",
    "    while part > 0:\n",
    "        for i in range(len(array)-part): # цикл по элементам массива\n",
    "            step = i\n",
    "            while step >= 0 and array[step] > array[step+part]:\n",
    "                array[step], array[step+part] = array[step+part], array[step] # замена элементов\n",
    "                step -= 1 # декрементируем j\n",
    "        part = int(part/2) # уменьшаем разбиение\n",
    "    return (array)"
   ]
  },
  {
   "cell_type": "code",
   "execution_count": 61,
   "metadata": {},
   "outputs": [
    {
     "data": {
      "text/plain": [
       "[2, 4, 5, 6]"
      ]
     },
     "execution_count": 61,
     "metadata": {},
     "output_type": "execute_result"
    }
   ],
   "source": [
    "Shell_algo([4,2,5,6])"
   ]
  },
  {
   "cell_type": "code",
   "execution_count": 62,
   "metadata": {},
   "outputs": [
    {
     "name": "stdout",
     "output_type": "stream",
     "text": [
      "Wall time: 12.8 s\n"
     ]
    }
   ],
   "source": [
    "%%time\n",
    "d=[]\n",
    "for i in range(len(b)):\n",
    "        d.append(timeit.timeit(stmt=f'Shell_algo(b[{i}])', setup='from __main__ import Shell_algo, b', number=100))"
   ]
  },
  {
   "cell_type": "code",
   "execution_count": 63,
   "metadata": {},
   "outputs": [
    {
     "data": {
      "text/plain": [
       "<matplotlib.legend.Legend at 0x149281e25f8>"
      ]
     },
     "execution_count": 63,
     "metadata": {},
     "output_type": "execute_result"
    },
    {
     "data": {
      "image/png": "[encoded data removed]",
      "text/plain": [
       "<Figure size 432x288 with 1 Axes>"
      ]
     },
     "metadata": {
      "needs_background": "light"
     },
     "output_type": "display_data"
    }
   ],
   "source": [
    "plt.plot(d)\n",
    "plt.ylabel(\"time\")\n",
    "plt.xlabel(\"observations\")\n",
    "plt.grid()\n",
    "plt.gca().legend('S')"
   ]
  },
  {
   "cell_type": "code",
   "execution_count": null,
   "metadata": {},
   "outputs": [],
   "source": []
  },
  {
   "cell_type": "code",
   "execution_count": 41,
   "metadata": {},
   "outputs": [],
   "source": [
    "def bubble_sort(array): # метод пузырька, обменная сортировка\n",
    "    for step in range(len(array),0,-1): # начинаем с последнего\n",
    "         for j in range(1, step):\n",
    "            first_element=array[j]\n",
    "            next_element=array[j-1]\n",
    "            if next_element>first_element: # если предыдущий элемент больше последующего\n",
    "                array[j]=next_element # заменяем значения, пузырёк всплывает))\n",
    "                array[j-1]=first_element\n",
    "    return array"
   ]
  },
  {
   "cell_type": "code",
   "execution_count": 42,
   "metadata": {},
   "outputs": [
    {
     "data": {
      "text/plain": [
       "[1, 3, 5, 6, 7]"
      ]
     },
     "execution_count": 42,
     "metadata": {},
     "output_type": "execute_result"
    }
   ],
   "source": [
    "bubble_sort([3,1,5,6,7])"
   ]
  },
  {
   "cell_type": "code",
   "execution_count": 43,
   "metadata": {},
   "outputs": [],
   "source": [
    "a=[]\n",
    "b=[]\n",
    "for j in range(100,2000,100): \n",
    "    for i in range(j):\n",
    "        a.append(i)\n",
    "        c=list(a)\n",
    "    a.clear()    \n",
    "    b.append(c)\n",
    "for i in range(len(b)): \n",
    "      random.shuffle(b[i])"
   ]
  },
  {
   "cell_type": "code",
   "execution_count": 44,
   "metadata": {
    "scrolled": false
   },
   "outputs": [
    {
     "name": "stdout",
     "output_type": "stream",
     "text": [
      "Wall time: 1min 36s\n"
     ]
    }
   ],
   "source": [
    "%%time\n",
    "f=[]\n",
    "for i in range(len(b)):\n",
    "        f.append(timeit.timeit(stmt=f'bubble_sort(b[{i}])', setup='from __main__ import bubble_sort, b', number=100))"
   ]
  },
  {
   "cell_type": "code",
   "execution_count": 45,
   "metadata": {},
   "outputs": [
    {
     "data": {
      "text/plain": [
       "<matplotlib.legend.Legend at 0x149278cbdd8>"
      ]
     },
     "execution_count": 45,
     "metadata": {},
     "output_type": "execute_result"
    },
    {
     "data": {
      "image/png": "[encoded data removed]",
      "text/plain": [
       "<Figure size 432x288 with 1 Axes>"
      ]
     },
     "metadata": {
      "needs_background": "light"
     },
     "output_type": "display_data"
    }
   ],
   "source": [
    "plt.plot(f)\n",
    "plt.ylabel(\"time\")\n",
    "plt.xlabel(\"observations\")\n",
    "plt.grid()\n",
    "plt.gca().legend('b')"
   ]
  },
  {
   "cell_type": "code",
   "execution_count": null,
   "metadata": {},
   "outputs": [],
   "source": []
  },
  {
   "cell_type": "code",
   "execution_count": null,
   "metadata": {},
   "outputs": [],
   "source": []
  },
  {
   "cell_type": "code",
   "execution_count": 46,
   "metadata": {},
   "outputs": [],
   "source": [
    "def QSort(array): # быстрая сортировка\n",
    "    if len(array) <= 1:\n",
    "        return array\n",
    "    else:\n",
    "        q = random.choice(array) # слуйчайный выбор порога\n",
    "        Left = []\n",
    "        M = []\n",
    "        Right = []\n",
    "        for elem in array: # разбиваем на подмассивы\n",
    "            if elem < q:\n",
    "                Left.append(elem)\n",
    "            elif elem > q:\n",
    "                Right.append(elem)\n",
    "            else:\n",
    "                M.append(elem)\n",
    "        return QuickSort(Left) + M + QuickSort(Right) # рекурсивный вызов функции"
   ]
  },
  {
   "cell_type": "code",
   "execution_count": 47,
   "metadata": {},
   "outputs": [
    {
     "data": {
      "text/plain": [
       "[1, 3, 5, 6, 7]"
      ]
     },
     "execution_count": 47,
     "metadata": {},
     "output_type": "execute_result"
    }
   ],
   "source": [
    "QSort([3,1,5,6,7])"
   ]
  },
  {
   "cell_type": "code",
   "execution_count": 48,
   "metadata": {},
   "outputs": [],
   "source": [
    "a=[]\n",
    "b=[]\n",
    "for j in range(1000,15000,1000): \n",
    "    for i in range(j):\n",
    "        a.append(i)\n",
    "        c=list(a)\n",
    "    a.clear()    \n",
    "    b.append(c)\n",
    "for i in range(len(b)): \n",
    "      random.shuffle(b[i])"
   ]
  },
  {
   "cell_type": "code",
   "execution_count": 49,
   "metadata": {},
   "outputs": [
    {
     "name": "stdout",
     "output_type": "stream",
     "text": [
      "Wall time: 21.3 s\n"
     ]
    }
   ],
   "source": [
    "%%time\n",
    "Q=[]\n",
    "for i in range(len(b)):\n",
    "        Q.append(timeit.timeit(stmt=f'QSort(b[{i}])', setup='from __main__ import QSort, b', number=100))"
   ]
  },
  {
   "cell_type": "code",
   "execution_count": 50,
   "metadata": {},
   "outputs": [
    {
     "data": {
      "text/plain": [
       "<matplotlib.legend.Legend at 0x149280a19b0>"
      ]
     },
     "execution_count": 50,
     "metadata": {},
     "output_type": "execute_result"
    },
    {
     "data": {
      "image/png": "[encoded data removed]",
      "text/plain": [
       "<Figure size 432x288 with 1 Axes>"
      ]
     },
     "metadata": {
      "needs_background": "light"
     },
     "output_type": "display_data"
    }
   ],
   "source": [
    "plt.plot(Q)\n",
    "plt.ylabel(\"time\")\n",
    "plt.xlabel(\"observations\")\n",
    "plt.grid()\n",
    "plt.gca().legend('Q')"
   ]
  },
  {
   "cell_type": "code",
   "execution_count": 51,
   "metadata": {},
   "outputs": [],
   "source": [
    "def selection_sort(nums):  \n",
    "    # Значение i соответствует кол-ву отсортированных значений\n",
    "    for i in range(len(nums)): # Исходно считаем наименьшим первый элемент\n",
    "        lowest_value_index = i\n",
    "        for j in range(i + 1, len(nums)): # Этот цикл перебирает несортированные элементы\n",
    "            if nums[j] < nums[lowest_value_index]:\n",
    "                lowest_value_index = j    \n",
    "        nums[i], nums[lowest_value_index] = nums[lowest_value_index], nums[i] # Самый маленький элемент меняем с первым в списке\n",
    "\n",
    "\n",
    "\n"
   ]
  },
  {
   "cell_type": "code",
   "execution_count": 52,
   "metadata": {},
   "outputs": [],
   "source": [
    "a=[]\n",
    "b=[]\n",
    "for j in range(1000,2000,100): \n",
    "    for i in range(j):\n",
    "        a.append(i)\n",
    "        c=list(a)\n",
    "    a.clear()    \n",
    "    b.append(c)\n",
    "for i in range(len(b)): \n",
    "      random.shuffle(b[i])"
   ]
  },
  {
   "cell_type": "code",
   "execution_count": 53,
   "metadata": {},
   "outputs": [
    {
     "name": "stdout",
     "output_type": "stream",
     "text": [
      "Wall time: 1min 1s\n"
     ]
    }
   ],
   "source": [
    "%%time\n",
    "S=[]\n",
    "for i in range(len(b)):\n",
    "        S.append(timeit.timeit(stmt=f'selection_sort(b[{i}])', setup='from __main__ import selection_sort, b', number=100))"
   ]
  },
  {
   "cell_type": "code",
   "execution_count": 54,
   "metadata": {},
   "outputs": [
    {
     "data": {
      "text/plain": [
       "<matplotlib.legend.Legend at 0x149280fc940>"
      ]
     },
     "execution_count": 54,
     "metadata": {},
     "output_type": "execute_result"
    },
    {
     "data": {
      "image/png": "[encoded data removed]",
      "text/plain": [
       "<Figure size 432x288 with 1 Axes>"
      ]
     },
     "metadata": {
      "needs_background": "light"
     },
     "output_type": "display_data"
    }
   ],
   "source": [
    "plt.plot(S)\n",
    "plt.ylabel(\"time\")\n",
    "plt.xlabel(\"observations\")\n",
    "plt.grid()\n",
    "plt.gca().legend('S')"
   ]
  },
  {
   "cell_type": "code",
   "execution_count": null,
   "metadata": {},
   "outputs": [],
   "source": []
  },
  {
   "cell_type": "code",
   "execution_count": null,
   "metadata": {},
   "outputs": [],
   "source": []
  },
  {
   "cell_type": "code",
   "execution_count": 55,
   "metadata": {
    "scrolled": true
   },
   "outputs": [],
   "source": [
    "def mergeSort(array):\n",
    "    if len(array)>1:\n",
    "        mid = len(array)//2\n",
    "        lefthalf = array[:mid] # разделяем список на два подсписка\n",
    "        righthalf = array[mid:]\n",
    "\n",
    "        mergeSort(lefthalf) # применяем функцию для массивов по отдельности\n",
    "        mergeSort(righthalf)\n",
    "\n",
    "        i=0\n",
    "        j=0\n",
    "        k=0\n",
    "        while i < len(lefthalf) and j < len(righthalf):\n",
    "            if lefthalf[i] <= righthalf[j]: # елли элемент из правой части больше элемента на той же позиции в левой части \n",
    "                array[k]=lefthalf[i] # заменяем элемент из левой части\n",
    "                i=i+1\n",
    "            else:\n",
    "                array[k]=righthalf[j] # заменяем элемент из правой части в противном случае\n",
    "                j=j+1\n",
    "            k=k+1\n",
    "\n",
    "        while i < len(lefthalf):\n",
    "            array[k]=lefthalf[i]\n",
    "            i=i+1\n",
    "            k=k+1\n",
    "\n",
    "        while j < len(righthalf):\n",
    "            array[k]=righthalf[j]\n",
    "            j=j+1\n",
    "            k=k+1\n",
    "    return array"
   ]
  },
  {
   "cell_type": "code",
   "execution_count": 56,
   "metadata": {
    "scrolled": true
   },
   "outputs": [
    {
     "data": {
      "text/plain": [
       "[1, 3, 5, 6, 7]"
      ]
     },
     "execution_count": 56,
     "metadata": {},
     "output_type": "execute_result"
    }
   ],
   "source": [
    "mergeSort([3,1,5,6,7])"
   ]
  },
  {
   "cell_type": "code",
   "execution_count": 57,
   "metadata": {},
   "outputs": [],
   "source": [
    "a=[]\n",
    "b=[]\n",
    "for j in range(1000,15000,1000): \n",
    "    for i in range(j):\n",
    "        a.append(i)\n",
    "        c=list(a)\n",
    "    a.clear()    \n",
    "    b.append(c)\n",
    "for i in range(len(b)): \n",
    "      random.shuffle(b[i])"
   ]
  },
  {
   "cell_type": "code",
   "execution_count": 58,
   "metadata": {},
   "outputs": [
    {
     "name": "stdout",
     "output_type": "stream",
     "text": [
      "Wall time: 34.7 s\n"
     ]
    }
   ],
   "source": [
    "%%time\n",
    "M=[]\n",
    "for i in range(len(b)):\n",
    "    M.append(timeit.timeit(stmt=f'mergeSort(b[{i}])', setup='from __main__ import mergeSort, b', number=100))"
   ]
  },
  {
   "cell_type": "code",
   "execution_count": 59,
   "metadata": {
    "scrolled": true
   },
   "outputs": [
    {
     "data": {
      "text/plain": [
       "<matplotlib.legend.Legend at 0x1492817e780>"
      ]
     },
     "execution_count": 59,
     "metadata": {},
     "output_type": "execute_result"
    },
    {
     "data": {
      "image/png": "[encoded data removed]",
      "text/plain": [
       "<Figure size 432x288 with 1 Axes>"
      ]
     },
     "metadata": {
      "needs_background": "light"
     },
     "output_type": "display_data"
    }
   ],
   "source": [
    "plt.plot(M)\n",
    "plt.ylabel(\"time\")\n",
    "plt.xlabel(\"observations\")\n",
    "plt.grid()\n",
    "plt.gca().legend('M')"
   ]
  },
  {
   "cell_type": "code",
   "execution_count": null,
   "metadata": {},
   "outputs": [],
   "source": []
  },
  {
   "cell_type": "code",
   "execution_count": 106,
   "metadata": {},
   "outputs": [],
   "source": [
    "def inversions(n):\n",
    " \n",
    "    A = [0] * (n + 1)\n",
    "    b=[]\n",
    "    for i in range(1, n + 1):\n",
    "        A[i] = i\n",
    "    j=1\n",
    "    while True:\n",
    "        k = n - 1\n",
    "        while A[k] > A[k + 1]:\n",
    "            k -= 1\n",
    "        if k == 0:\n",
    "            break\n",
    "        t = n\n",
    "        while A[k] > A[t]:\n",
    "            t -= 1\n",
    "        A[k], A[t] = A[t], A[k]\n",
    "        left = k + 1\n",
    "        right = n\n",
    "        while left < right:\n",
    "            A[left], A[right] = A[right], A[left]\n",
    "            left += 1\n",
    "            right -= 1\n",
    "        b.append(j)\n",
    "        print(A)\n",
    "        j+=1\n",
    "    return len(b)+1"
   ]
  },
  {
   "cell_type": "code",
   "execution_count": null,
   "metadata": {},
   "outputs": [],
   "source": []
  },
  {
   "cell_type": "code",
   "execution_count": 266,
   "metadata": {},
   "outputs": [],
   "source": [
    "def KK(array):\n",
    "    new_array=[]\n",
    "    other_array=[]\n",
    "    j=0\n",
    "    while len(array)!=1:\n",
    "        diff=array[0]-array[1]\n",
    "        new_array.append(diff)\n",
    "        new_array.append(array[0])\n",
    "        array.remove(array[0])\n",
    "        array.insert(len(array)-j,diff)\n",
    "        if len(array)==2:\n",
    "            new_array.append(array[1])\n",
    "            array.remove(array[1])\n",
    "            break\n",
    "        new_array.append(array[0])\n",
    "        array.remove(array[0])\n",
    "        j+=1\n",
    "    final = [new_array[i * 3:(i + 1) * 3] for i in range((len(new_array) + 3-1 ) // 3 )]  \n",
    "    j=len(final)-1\n",
    "    while j>=0:\n",
    "        if final[j][0] in array:\n",
    "                array.remove(final[j][0])\n",
    "                array.insert(0,final[j][1])\n",
    "                other_array.insert(0,final[j][2])\n",
    "        elif final[j][0] in other_array:\n",
    "                other_array.remove(final[j][0])\n",
    "                other_array.insert(0,final[j][1])\n",
    "                array.insert(0,final[j][2])\n",
    "            \n",
    "        j-=1\n",
    "    return(array,other_array)"
   ]
  },
  {
   "cell_type": "code",
   "execution_count": 271,
   "metadata": {},
   "outputs": [
    {
     "data": {
      "text/plain": [
       "([12, 11], [15, 8])"
      ]
     },
     "execution_count": 271,
     "metadata": {},
     "output_type": "execute_result"
    }
   ],
   "source": [
    "KK([15,12,11,8,2])"
   ]
  },
  {
   "cell_type": "code",
   "execution_count": 258,
   "metadata": {},
   "outputs": [],
   "source": [
    "def count_inversion(lst):\n",
    "    return merge_count_inversion(lst)[1]\n",
    "\n",
    "def merge_count_inversion(lst):\n",
    "    if len(lst) <= 1:\n",
    "        return lst, 0\n",
    "    middle = int( len(lst) / 2 )\n",
    "    left, a = merge_count_inversion(lst[:middle])\n",
    "    right, b = merge_count_inversion(lst[middle:])\n",
    "    result, c = merge_count_split_inversion(left, right)\n",
    "    return result, (a + b + c)\n",
    "\n",
    "def merge_count_split_inversion(left, right):\n",
    "    result = []\n",
    "    count = 0\n",
    "    i, j = 0, 0\n",
    "    left_len = len(left)\n",
    "    while i < left_len and j < len(right):\n",
    "        if left[i] <= right[j]:\n",
    "            result.append(left[i])\n",
    "            i += 1\n",
    "        else:\n",
    "            result.append(right[j])\n",
    "            count += left_len - i\n",
    "            j += 1\n",
    "    result += left[i:]\n",
    "    result += right[j:]\n",
    "    return result, count        "
   ]
  },
  {
   "cell_type": "code",
   "execution_count": 261,
   "metadata": {},
   "outputs": [
    {
     "data": {
      "text/plain": [
       "5"
      ]
     },
     "execution_count": 261,
     "metadata": {},
     "output_type": "execute_result"
    }
   ],
   "source": [
    "count_inversion([8, 1, 2, 3, 9, 4])"
   ]
  },
  {
   "cell_type": "code",
   "execution_count": 296,
   "metadata": {},
   "outputs": [],
   "source": []
  },
  {
   "cell_type": "code",
   "execution_count": 297,
   "metadata": {},
   "outputs": [
    {
     "name": "stdout",
     "output_type": "stream",
     "text": [
      "5\n",
      "[5]\n",
      "[5, 25]\n",
      "[20, 18, 17, 12, 11, 8, 2]\n",
      "1\n",
      "[5, 25, 20, 1]\n",
      "[5, 25, 20, 1, 18]\n",
      "[17, 12, 11, 8, 2, 5]\n",
      "1\n",
      "[5, 25, 20, 1, 18, 17, 1]\n",
      "[5, 25, 20, 1, 18, 17, 1, 12]\n",
      "[11, 8, 2, 1, 5]\n",
      "6\n",
      "[5, 25, 20, 1, 18, 17, 1, 12, 11, 6]\n",
      "[5, 25, 20, 1, 18, 17, 1, 12, 11, 6, 8]\n",
      "[2, 1, 1, 5]\n",
      "5\n",
      "[5, 25, 20, 1, 18, 17, 1, 12, 11, 6, 8, 2, 5]\n",
      "[5, 25, 20, 1, 18, 17, 1, 12, 11, 6, 8, 2, 5, 6]\n",
      "[1, 1, 5]\n",
      "-4\n",
      "[5, 25, 20, 1, 18, 17, 1, 12, 11, 6, 8, 2, 5, 6, 1, -4]\n",
      "[5, 25, 20, 1, 18, 17, 1, 12, 11, 6, 8, 2, 5, 6, 1, -4, 1]\n",
      "[5, 5]\n",
      "0\n",
      "[5, 25, 20, 1, 18, 17, 1, 12, 11, 6, 8, 2, 5, 6, 1, -4, 1, -4, 0]\n",
      "[5, 25, 20, 1, 18, 17, 1, 12, 11, 6, 8, 2, 5, 6, 1, -4, 1, -4, 0, 5]\n",
      "[5]\n"
     ]
    }
   ],
   "source": [
    "array=[25,20,18,17,12,11,8,2]\n",
    "new_array=[]\n",
    "other_array=[]\n",
    "j=0\n",
    "while len(array)!=1:\n",
    "    diff=array[0]-array[1]\n",
    "    print(diff)\n",
    "    new_array.append(diff)\n",
    "    print(new_array)\n",
    "    new_array.append(array[0])\n",
    "    print(new_array)\n",
    "    array.remove(array[0])\n",
    "    print(array)\n",
    "    array.insert(len(array)-j,diff)\n",
    "    if len(array)==2:\n",
    "        new_array.append(array[1])\n",
    "        array.remove(array[1])\n",
    "        break\n",
    "    new_array.append(array[0])\n",
    "    array.remove(array[0])\n",
    "    j+=1\n",
    "\n"
   ]
  },
  {
   "cell_type": "code",
   "execution_count": 294,
   "metadata": {},
   "outputs": [],
   "source": [
    "final = [new_array[i * 3:(i + 1) * 3] for i in range((len(new_array) + 3-1 ) // 3 )] "
   ]
  },
  {
   "cell_type": "code",
   "execution_count": 295,
   "metadata": {},
   "outputs": [
    {
     "data": {
      "text/plain": [
       "[[5, 25, 20],\n",
       " [1, 18, 17],\n",
       " [1, 12, 11],\n",
       " [6, 8, 2],\n",
       " [5, 6, 1],\n",
       " [-4, 1, -4],\n",
       " [0, 5, 5]]"
      ]
     },
     "execution_count": 295,
     "metadata": {},
     "output_type": "execute_result"
    }
   ],
   "source": [
    "final"
   ]
  },
  {
   "cell_type": "code",
   "execution_count": null,
   "metadata": {},
   "outputs": [],
   "source": []
  }
 ],
 "metadata": {
  "kernelspec": {
   "display_name": "Python 3",
   "language": "python",
   "name": "python3"
  },
  "language_info": {
   "codemirror_mode": {
    "name": "ipython",
    "version": 3
   },
   "file_extension": ".py",
   "mimetype": "text/x-python",
   "name": "python",
   "nbconvert_exporter": "python",
   "pygments_lexer": "ipython3",
   "version": "3.7.6"
  }
 },
 "nbformat": 4,
 "nbformat_minor": 2
}
