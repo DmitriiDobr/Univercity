{
 "cells": [
  {
   "cell_type": "code",
   "execution_count": 36,
   "metadata": {},
   "outputs": [],
   "source": [
    "import tkinter\n",
    "from tkinter import messagebox as tkMessageBox\n"
   ]
  },
  {
   "cell_type": "code",
   "execution_count": 37,
   "metadata": {},
   "outputs": [],
   "source": [
    "import random"
   ]
  },
  {
   "cell_type": "code",
   "execution_count": 38,
   "metadata": {},
   "outputs": [],
   "source": [
    "root=tkinter.Tk()\n",
    "\n",
    "root.configure(bg='white')\n",
    "\n",
    "root.title('My super to do list')\n",
    "\n",
    "root.geometry('325x275')\n",
    "\n",
    "tasks =[]\n",
    "\n",
    "#tasks=['Call mom','Buy a guitar', 'Eat sushi']\n",
    "\n",
    "def update_listbox():\n",
    "    clear_listbox()\n",
    "    for task in tasks:\n",
    "        lb_tasks.insert(\"end\", task)\n",
    "\n",
    "        \n",
    "def  clear_listbox():\n",
    "    lb_tasks.delete(0, 'end')\n",
    "        \n",
    "        \n",
    "def add_task():\n",
    "    task = txt_input.get()\n",
    "    if task !='':\n",
    "        tasks.append(task)\n",
    "        update_listbox()\n",
    "    else:\n",
    "        tkMessageBox.showwarning('Warning', 'You need to enter a task.')\n",
    "    txt_input.delete(0,'end')\n",
    "\n",
    "\n",
    "def del_all():\n",
    "    confirmed =tkMessageBox.askyesno('Please Confirm', 'Do you really want to delete all')\n",
    "    if confirmed == True:\n",
    "        global tasks\n",
    "        tasks= []\n",
    "        update_listbox()\n",
    "\n",
    "\n",
    "def del_one():\n",
    "    task=lb_tasks.get('active')\n",
    "    if task in tasks:\n",
    "        tasks.remove(task)\n",
    "    update_listbox()\n",
    "        \n",
    "        \n",
    "def sort_asc():\n",
    "    tasks.sort()\n",
    "    update_listbox()\n",
    "\n",
    "def sort_desc():\n",
    "    tasks.sort()\n",
    "    tasks.reverse()\n",
    "    update_listbox()\n",
    "\n",
    "def choose_random():\n",
    "    task=random.choice(tasks)\n",
    "    lbl_display['text']=task\n",
    "\n",
    "def show_number_of_tasks():\n",
    "    number_of_tasks=len(tasks)\n",
    "    msg= 'Number of tasks: %s' %number_of_tasks\n",
    "    lbl_display['text']=msg\n"
   ]
  },
  {
   "cell_type": "code",
   "execution_count": 39,
   "metadata": {},
   "outputs": [],
   "source": [
    "\n",
    "lbl_title= tkinter.Label (root, text=\"To-Do-List\",bg=\"white\")\n",
    "lbl_title.grid(row=0,column=0)\n",
    "\n",
    "lbl_display = tkinter.Label(root, text=\"\", bg=\"white\")\n",
    "lbl_display.grid(row=0,column=1)\n",
    "\n",
    "txt_input= tkinter.Entry(root, width=15)\n",
    "txt_input.grid(row=1,column=1)\n",
    "\n",
    "btn_add_task= tkinter.Button(root,text='Add task', fg='green', bg='white', command=add_task)\n",
    "btn_add_task.grid(row=1,column=0)\n",
    "\n",
    "\n",
    "btn_del_all= tkinter.Button(root,text='Delete All', fg='green', bg='white', command=del_all)\n",
    "btn_del_all.grid(row=2,column=0)\n",
    "\n",
    "btn_del_one= tkinter.Button(root,text='Delete', fg='green', bg='white', command=del_one)\n",
    "btn_del_one.grid(row=3,column=0)\n",
    "\n",
    "btn_sort_asc= tkinter.Button(root,text='Sort (ASC)', fg='green', bg='white', command=sort_asc)\n",
    "btn_sort_asc.grid(row=4,column=0)\n",
    "\n",
    "btn_sort_desc= tkinter.Button(root,text='Sort (DESC)', fg='green', bg='white', command=sort_desc)\n",
    "btn_sort_desc.grid(row=5,column=0)\n",
    "\n",
    "btn_choose_random= tkinter.Button(root,text='Choose random', fg='green', bg='white', command=choose_random)\n",
    "btn_choose_random.grid(row=6,column=0)\n",
    "\n",
    "btn_number_of_tasks= tkinter.Button(root,text='Number of Tasks', fg='green', bg='white', command=show_number_of_tasks)\n",
    "btn_number_of_tasks.grid(row=7,column=0)\n",
    "\n",
    "btn_exit= tkinter.Button(root,text='Exit', fg='green', bg='white', command=exit)\n",
    "btn_exit.grid(row=8,column=0)\n",
    "\n",
    "lb_tasks = tkinter.Listbox(root)\n",
    "lb_tasks.grid(row=2,column=1, rowspan=7)\n",
    "\n",
    "root.mainloop()"
   ]
  },
  {
   "cell_type": "code",
   "execution_count": 30,
   "metadata": {},
   "outputs": [],
   "source": [
    "\n"
   ]
  },
  {
   "cell_type": "code",
   "execution_count": null,
   "metadata": {},
   "outputs": [],
   "source": []
  }
 ],
 "metadata": {
  "kernelspec": {
   "display_name": "Python 3",
   "language": "python",
   "name": "python3"
  },
  "language_info": {
   "codemirror_mode": {
    "name": "ipython",
    "version": 3
   },
   "file_extension": ".py",
   "mimetype": "text/x-python",
   "name": "python",
   "nbconvert_exporter": "python",
   "pygments_lexer": "ipython3",
   "version": "3.7.6"
  }
 },
 "nbformat": 4,
 "nbformat_minor": 2
}
